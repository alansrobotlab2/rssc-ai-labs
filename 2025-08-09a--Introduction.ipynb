{
 "cells": [
  {
   "cell_type": "markdown",
   "metadata": {},
   "source": [
    "## <span style=\"color: rgb(137,207,240)\">Introduction to Jupyter Notebooks</span>\n",
    "Jupyter Notebook are a common tool used in data science and machine learning workflows which allow you to easily run code and display markdown in a contained environmnent. We will use them as the basis for the activities in this lab.\n",
    "\n",
    "One of the best features of a Jupyter notebook is that you can selectively run sections of code without running your entire program from start to finish.  This comes in handy when there are long running sections of code or if you're working on a specific section without waiting for the rest of the program to run.\n"
   ]
  },
  {
   "cell_type": "markdown",
   "metadata": {},
   "source": [
    "#### <span style=\"color: rgb(137,207,240)\">Virtual Environment Setup</span>\n",
    "\n",
    "First, let's remove the # from the statement in the codeblock below and run the cell.  This will create and update our local python virtual environment using UV.  Note that you may need to restart the kernel to use the updated packages.\n",
    "\n",
    "If you're curious about what the UV environment setup looks like, open up the pyproject.toml file in the AI Lab folder."
   ]
  },
  {
   "cell_type": "code",
   "execution_count": null,
   "metadata": {},
   "outputs": [],
   "source": [
    "#%uv sync"
   ]
  },
  {
   "cell_type": "markdown",
   "metadata": {},
   "source": [
    "Then we need to select the virtual environment.  In the upper right hand corner you'll see \"Select Kernel\"  Click there then select the .venv virtual environment that was created in the AI Lab folder.  Sometimes activating the environment gets a little weird the first time.  Ask one of us for help if the .venv environment isn't available for selection."
   ]
  },
  {
   "cell_type": "markdown",
   "metadata": {},
   "source": [
    "####  <span style=\"color: rgb(137,207,240)\">Hello World</span>\n",
    "\n",
    "1. First, add a markdown cell below which says \"Hello world!\". To do this just hover your mouse below this cell, and options should come up to add \"Markdown\" or \"Code\"."
   ]
  },
  {
   "cell_type": "markdown",
   "metadata": {},
   "source": []
  },
  {
   "cell_type": "markdown",
   "metadata": {},
   "source": [
    "2. Next, let's add a cell with code to store the result of 2+2 in an `int` variable called `result`.  Then run it."
   ]
  },
  {
   "cell_type": "code",
   "execution_count": null,
   "metadata": {
    "dotnet_interactive": {
     "language": "csharp"
    },
    "polyglot_notebook": {
     "kernelName": "csharp"
    }
   },
   "outputs": [],
   "source": []
  },
  {
   "cell_type": "markdown",
   "metadata": {},
   "source": [
    "3. Next, let's print the that value of result.  Notice that this cell is able to use the result of every cell that has been run before.  You can do this using print()\n",
    "\n",
    "Also, take a moment and hover your mouse over the `print` statement you just entered.  VSCode helpfully provides a popup with additional information about the function.  Super Handy!"
   ]
  },
  {
   "cell_type": "code",
   "execution_count": null,
   "metadata": {},
   "outputs": [],
   "source": []
  },
  {
   "cell_type": "markdown",
   "metadata": {},
   "source": [
    "4. Next, let's create another variable called `result2` which will have the value of `result`, multiplied by 432. Any code written in a previous cell which has been ran is available in the following cells."
   ]
  },
  {
   "cell_type": "code",
   "execution_count": null,
   "metadata": {
    "dotnet_interactive": {
     "language": "csharp"
    },
    "polyglot_notebook": {
     "kernelName": "csharp"
    }
   },
   "outputs": [],
   "source": []
  },
  {
   "cell_type": "markdown",
   "metadata": {},
   "source": [
    "5. Now, print out the value of `result2` below. "
   ]
  },
  {
   "cell_type": "code",
   "execution_count": null,
   "metadata": {
    "dotnet_interactive": {
     "language": "csharp"
    },
    "polyglot_notebook": {
     "kernelName": "csharp"
    }
   },
   "outputs": [],
   "source": []
  },
  {
   "cell_type": "markdown",
   "metadata": {},
   "source": [
    "6. Now, add a markdown cell below.  Let's write \"Congratulations you legends!\" in the markdown cell.  To write it as a header, add a couple of # before the text."
   ]
  },
  {
   "cell_type": "markdown",
   "metadata": {},
   "source": [
    "## Congratulations you legends!"
   ]
  },
  {
   "cell_type": "markdown",
   "metadata": {},
   "source": [
    "##### 🎉🎉🎉 Congratulations you legends! 🎉🎉🎉 \n",
    "You have been officially indoctrinated into VSCode + Jupyter Notebooks!\n",
    "\n",
    "Now lets build some cool stuff!"
   ]
  }
 ],
 "metadata": {
  "kernelspec": {
   "display_name": "rssc-ai-labs",
   "language": "python",
   "name": "python3"
  },
  "language_info": {
   "codemirror_mode": {
    "name": "ipython",
    "version": 3
   },
   "file_extension": ".py",
   "mimetype": "text/x-python",
   "name": "python",
   "nbconvert_exporter": "python",
   "pygments_lexer": "ipython3",
   "version": "3.11.11"
  },
  "polyglot_notebook": {
   "kernelInfo": {
    "defaultKernelName": "csharp",
    "items": [
     {
      "aliases": [],
      "name": "csharp"
     }
    ]
   }
  }
 },
 "nbformat": 4,
 "nbformat_minor": 2
}
